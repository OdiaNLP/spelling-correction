{
 "cells": [
  {
   "cell_type": "code",
   "execution_count": 10,
   "metadata": {
    "collapsed": true
   },
   "outputs": [],
   "source": [
    "from collections import Counter\n",
    "from tqdm import tqdm\n",
    "import json\n",
    "import os\n",
    "from typing import List, Any\n",
    "from indicnlp.tokenize.indic_tokenize import trivial_tokenize_indic"
   ]
  },
  {
   "cell_type": "code",
   "execution_count": 2,
   "outputs": [],
   "source": [
    "with open('data/Odia_structured_wordlist.json', 'r', encoding='utf-8') as f:\n",
    "    di = json.load(f)"
   ],
   "metadata": {
    "collapsed": false,
    "pycharm": {
     "name": "#%%\n"
    }
   }
  },
  {
   "cell_type": "code",
   "execution_count": 4,
   "outputs": [
    {
     "data": {
      "text/plain": "{'gender': None,\n 'pronunciation': 'Haḻka pāibā',\n 'raw': ' (ଅମୁକର) ହଳକ ପାଇବା— Haḻka pāibā [synonym(s): হলক পাত্তয়া हलक पाना] ଦେ. ବି— 1। [କୌଣସି କାର୍ଯ୍ୟ କରିବାପାଇଁ] ସାହସ ଉପୁଜିବା। 1. Having the boldness or courage (to undertake a particular work). (ଯଥା—ଏଡ଼େ ଡେଙ୍ଗା ଗଛରେ ଚଢ଼ିବାକୁ ମୋର ହଲକ୍ ପାଉ ନାହିଁ।) ',\n 'synonyms': '[synonym(s): হলক পাত্তয়া हलक पाना]',\n 'word_details': [{'juktakhyara': 'ଦେ. ବି',\n   'meaning': '1। [କୌଣସି କାର୍ଯ୍ୟ କରିବାପାଇଁ] ସାହସ ଉପୁଜିବା। 1. Having the boldness or courage (to undertake a particular work). (ଯଥା—ଏଡ଼େ ଡେଙ୍ଗା ଗଛରେ ଚଢ଼ିବାକୁ ମୋର ହଲକ୍ ପାଉ ନାହିଁ।)',\n   'verse': None}]}"
     },
     "execution_count": 4,
     "metadata": {},
     "output_type": "execute_result"
    }
   ],
   "source": [
    "di[list(di.keys())[4]]"
   ],
   "metadata": {
    "collapsed": false,
    "pycharm": {
     "name": "#%%\n"
    }
   }
  },
  {
   "cell_type": "code",
   "execution_count": 6,
   "outputs": [],
   "source": [
    "\n",
    "filename = os.path.join('data/or')\n",
    "assert os.path.isfile(filename)  # sanity check"
   ],
   "metadata": {
    "collapsed": false,
    "pycharm": {
     "name": "#%%\n"
    }
   }
  },
  {
   "cell_type": "code",
   "execution_count": 7,
   "outputs": [
    {
     "name": "stderr",
     "output_type": "stream",
     "text": [
      "read lines from file: 100%|██████████| 3594672/3594672 [00:02<00:00, 1236541.43it/s]\n"
     ]
    }
   ],
   "source": [
    "with open(filename, 'r', encoding='utf-8') as f:\n",
    "    lines = [s.strip() for s in tqdm(f.readlines(), desc='read lines from file')]"
   ],
   "metadata": {
    "collapsed": false,
    "pycharm": {
     "name": "#%%\n"
    }
   }
  },
  {
   "cell_type": "code",
   "execution_count": null,
   "outputs": [],
   "source": [
    "def tokenize_text(text: List[str]) -> List[List[str]]:\n",
    "    \"\"\"Tokenize text\"\"\"\n",
    "    return [trivial_tokenize_indic(sent) for sent in tqdm(text, desc='tokenize', unit=' sentences')]"
   ],
   "metadata": {
    "collapsed": false,
    "pycharm": {
     "name": "#%%\n"
    }
   }
  },
  {
   "cell_type": "code",
   "execution_count": null,
   "outputs": [],
   "source": [
    "# tokenize\n",
    "tokens = tokenize_text(lines)"
   ],
   "metadata": {
    "collapsed": false,
    "pycharm": {
     "name": "#%%\n"
    }
   }
  }
 ],
 "metadata": {
  "kernelspec": {
   "display_name": "Python 3",
   "language": "python",
   "name": "python3"
  },
  "language_info": {
   "codemirror_mode": {
    "name": "ipython",
    "version": 2
   },
   "file_extension": ".py",
   "mimetype": "text/x-python",
   "name": "python",
   "nbconvert_exporter": "python",
   "pygments_lexer": "ipython2",
   "version": "2.7.6"
  }
 },
 "nbformat": 4,
 "nbformat_minor": 0
}